{
  "nbformat": 4,
  "nbformat_minor": 0,
  "metadata": {
    "colab": {
      "name": "Exercise_DenseNet.ipynb",
      "provenance": [],
      "authorship_tag": "ABX9TyPDEoDDKyBEB8CzE62byzUW",
      "include_colab_link": true
    },
    "kernelspec": {
      "name": "python3",
      "display_name": "Python 3"
    },
    "accelerator": "GPU"
  },
  "cells": [
    {
      "cell_type": "markdown",
      "metadata": {
        "id": "view-in-github",
        "colab_type": "text"
      },
      "source": [
        "<a href=\"https://colab.research.google.com/github/comojin1994/DenseNet/blob/master/Exercise_DenseNet.ipynb\" target=\"_parent\"><img src=\"https://colab.research.google.com/assets/colab-badge.svg\" alt=\"Open In Colab\"/></a>"
      ]
    },
    {
      "cell_type": "code",
      "metadata": {
        "id": "1NyiepjW_rRU",
        "colab_type": "code",
        "colab": {
          "base_uri": "https://localhost:8080/",
          "height": 52
        },
        "outputId": "e1022fe7-a52b-443a-8181-897753957c48"
      },
      "source": [
        "%tensorflow_version 2.x\n",
        "import tensorflow as tf\n",
        "import numpy as np\n",
        "tf.__version__"
      ],
      "execution_count": 1,
      "outputs": [
        {
          "output_type": "stream",
          "text": [
            "TensorFlow 2.x selected.\n"
          ],
          "name": "stdout"
        },
        {
          "output_type": "execute_result",
          "data": {
            "text/plain": [
              "'2.1.0'"
            ]
          },
          "metadata": {
            "tags": []
          },
          "execution_count": 1
        }
      ]
    },
    {
      "cell_type": "markdown",
      "metadata": {
        "id": "2BiM5jtZEK7J",
        "colab_type": "text"
      },
      "source": [
        "### Hyperparameter"
      ]
    },
    {
      "cell_type": "code",
      "metadata": {
        "id": "CrlF95gp_47I",
        "colab_type": "code",
        "colab": {}
      },
      "source": [
        "EPOCHS = 10\n",
        "batch_size = 32"
      ],
      "execution_count": 0,
      "outputs": []
    },
    {
      "cell_type": "markdown",
      "metadata": {
        "id": "wBUYM76GEUO1",
        "colab_type": "text"
      },
      "source": [
        "### Dense Unit"
      ]
    },
    {
      "cell_type": "code",
      "metadata": {
        "id": "1yXwfFOIET8E",
        "colab_type": "code",
        "colab": {}
      },
      "source": [
        "class DenseUnit(tf.keras.Model):\n",
        "    def __init__(self, filter_out, kernel_size):\n",
        "        super(DenseUnit, self).__init__()\n",
        "        self.bn1 = tf.keras.layers.BatchNormalization()\n",
        "        self.conv1 = tf.keras.layers.Conv2D(filter_out, kernel_size, padding='same')\n",
        "\n",
        "        self.bn2 = tf.keras.layers.BatchNormalization()\n",
        "        self.conv2 = tf.keras.layers.Conv2D(filter_out, kernel_size, padding='same')\n",
        "\n",
        "        self.concat = tf.keras.layers.Concatenate()\n",
        "\n",
        "    def call(self, x, training=False, mask=None):\n",
        "        h = self.bn1(x, training=training)\n",
        "        h = tf.nn.relu(h)\n",
        "        h = self.conv1(h)\n",
        "        h = self.bn2(h, training=training)\n",
        "        h = tf.nn.relu(h)\n",
        "        h = self.conv2(h)\n",
        "        h = self.concat([x, h])\n",
        "        return h"
      ],
      "execution_count": 0,
      "outputs": []
    },
    {
      "cell_type": "markdown",
      "metadata": {
        "id": "cBi6TiHOEVzt",
        "colab_type": "text"
      },
      "source": [
        "### Dense Layer"
      ]
    },
    {
      "cell_type": "code",
      "metadata": {
        "id": "OLu25RJ1EW4O",
        "colab_type": "code",
        "colab": {}
      },
      "source": [
        "class DenseLayer(tf.keras.Model):\n",
        "    def __init__(self, num_units, growth_rate, kernel_size):\n",
        "        super(DenseLayer, self).__init__()\n",
        "        self.sequence = list()\n",
        "        for _ in range(num_units):\n",
        "            self.sequence.append(DenseUnit(growth_rate, kernel_size))\n",
        "\n",
        "    def call(self, x, training=False, mask=None):\n",
        "        for unit in self.sequence:\n",
        "            x = unit(x, training=training)\n",
        "        return x"
      ],
      "execution_count": 0,
      "outputs": []
    },
    {
      "cell_type": "markdown",
      "metadata": {
        "id": "aIFHavjsEXGm",
        "colab_type": "text"
      },
      "source": [
        "### Transition Layer"
      ]
    },
    {
      "cell_type": "code",
      "metadata": {
        "id": "kquhwRNoEa7z",
        "colab_type": "code",
        "colab": {}
      },
      "source": [
        "class TransitionLayer(tf.keras.Model):\n",
        "    def __init__(self, filters, kernel_size):\n",
        "        super(TransitionLayer, self).__init__()\n",
        "        self.conv = tf.keras.layers.Conv2D(filters, kernel_size, padding='same')\n",
        "        self.pool = tf.keras.layers.MaxPool2D()\n",
        " \n",
        "    def call(self, x):\n",
        "        x = self.conv(x)\n",
        "        x = self.pool(x)\n",
        "        return x"
      ],
      "execution_count": 0,
      "outputs": []
    },
    {
      "cell_type": "markdown",
      "metadata": {
        "id": "NC-yLf7tEdgO",
        "colab_type": "text"
      },
      "source": [
        "### Model"
      ]
    },
    {
      "cell_type": "code",
      "metadata": {
        "id": "Yt78RVfjEeBC",
        "colab_type": "code",
        "colab": {}
      },
      "source": [
        "class DenseNet(tf.keras.Model):\n",
        "    def __init__(self):\n",
        "        super(DenseNet, self).__init__()\n",
        "        self.conv1 = tf.keras.layers.Conv2D(8, (3, 3), padding='same', activation='relu') # 32x32x8\n",
        "\n",
        "        self.dl1 = DenseLayer(2, 4, (3, 3)) # 32x32x16\n",
        "        self.t1 = TransitionLayer(16, (3, 3)) # 16x16x16\n",
        "\n",
        "        self.dl2 = DenseLayer(2, 8, (3, 3)) # 16x16x32\n",
        "        self.t2 = TransitionLayer(32, (3, 3)) # 8x8x32\n",
        "\n",
        "        self.dl3 = DenseLayer(2, 16, (3, 3)) # 8x8x64\n",
        "        self.t3 = TransitionLayer(64, (3, 3)) # 4x4x64\n",
        "\n",
        "        self.dl4 = DenseLayer(2, 32, (3, 3)) # 4x4x128\n",
        "        self.flatten = tf.keras.layers.Flatten() # 2048\n",
        "        self.dense1 = tf.keras.layers.Dense(1024, activation='relu')\n",
        "        self.dense2 = tf.keras.layers.Dense(10, activation='softmax')\n",
        "\n",
        "    def call(self, x, training=False, mask=None):\n",
        "        x = self.conv1(x)\n",
        "        x = self.dl1(x, training=training)\n",
        "        x = self.t1(x)\n",
        "        x = self.dl2(x, training=training)\n",
        "        x = self.t2(x)\n",
        "        x = self.dl3(x, training=training)\n",
        "        x = self.t3(x)\n",
        "        x = self.dl4(x, training=training)\n",
        "        x = self.flatten(x)\n",
        "        x = self.dense1(x)\n",
        "        x = self.dense2(x)\n",
        "        return x"
      ],
      "execution_count": 0,
      "outputs": []
    },
    {
      "cell_type": "markdown",
      "metadata": {
        "id": "HpC6M5wREmh8",
        "colab_type": "text"
      },
      "source": [
        "### Load Data"
      ]
    },
    {
      "cell_type": "code",
      "metadata": {
        "id": "lDyJ6Y1vEmpk",
        "colab_type": "code",
        "colab": {
          "base_uri": "https://localhost:8080/",
          "height": 52
        },
        "outputId": "07f8cdd2-18f7-4297-8d2c-1bd6ec9c1002"
      },
      "source": [
        "cifar10 = tf.keras.datasets.cifar10\n",
        "(x_train, y_train), (x_test, y_test) = cifar10.load_data()\n",
        "x_train, x_test = x_train / 255., x_test / 255.\n",
        "x_train = x_train.astype(np.float32)\n",
        "x_test = x_test.astype(np.float32)\n",
        "\n",
        "train_ds = tf.data.Dataset.from_tensor_slices((x_train, y_train)).shuffle(len(x_train)).batch(batch_size)\n",
        "test_ds = tf.data.Dataset.from_tensor_slices((x_test, y_test)).batch(batch_size)"
      ],
      "execution_count": 9,
      "outputs": [
        {
          "output_type": "stream",
          "text": [
            "Downloading data from https://www.cs.toronto.edu/~kriz/cifar-10-python.tar.gz\n",
            "170500096/170498071 [==============================] - 2s 0us/step\n"
          ],
          "name": "stdout"
        }
      ]
    },
    {
      "cell_type": "markdown",
      "metadata": {
        "id": "rluXGol7EeQb",
        "colab_type": "text"
      },
      "source": [
        "### Define train, test loop"
      ]
    },
    {
      "cell_type": "code",
      "metadata": {
        "id": "R4Qink5OEgnh",
        "colab_type": "code",
        "colab": {}
      },
      "source": [
        "@tf.function\n",
        "def train_step(model, images, labels, loss_object, optimizer, train_loss, train_accuracy):\n",
        "    with tf.GradientTape() as tape:\n",
        "        predictions = model(images, training=True)\n",
        "        loss = loss_object(labels, predictions)\n",
        "    gradients = tape.gradient(loss, model.trainable_variables)\n",
        "\n",
        "    optimizer.apply_gradients(zip(gradients, model.trainable_variables))\n",
        "    train_loss(loss)\n",
        "    train_accuracy(labels, predictions)\n",
        "\n",
        "@tf.function\n",
        "def test_step(model, images, labels, loss_object, test_loss, test_accuracy):\n",
        "    predictions = model(images, training=False)\n",
        "    t_loss = loss_object(labels, predictions)\n",
        "\n",
        "    test_loss(t_loss)\n",
        "    test_accuracy(labels, predictions)"
      ],
      "execution_count": 0,
      "outputs": []
    },
    {
      "cell_type": "markdown",
      "metadata": {
        "id": "ADHipmqAEg9T",
        "colab_type": "text"
      },
      "source": [
        "### Define model, loss function, optimizer and metrcs"
      ]
    },
    {
      "cell_type": "code",
      "metadata": {
        "id": "SZQO3e30Ekjr",
        "colab_type": "code",
        "colab": {}
      },
      "source": [
        "model = DenseNet()\n",
        "\n",
        "loss_object = tf.keras.losses.SparseCategoricalCrossentropy()\n",
        "optimizer = tf.keras.optimizers.Adam()\n",
        "\n",
        "train_loss = tf.keras.metrics.Mean(name='train_loss')\n",
        "train_accuracy = tf.keras.metrics.SparseCategoricalAccuracy(name='train_accuracy')\n",
        "test_loss = tf.keras.metrics.Mean(name='test_loss')\n",
        "test_accuracy = tf.keras.metrics.SparseCategoricalAccuracy(name='test_accuracy')"
      ],
      "execution_count": 0,
      "outputs": []
    },
    {
      "cell_type": "markdown",
      "metadata": {
        "id": "LpwePKMREk7O",
        "colab_type": "text"
      },
      "source": [
        "### Training"
      ]
    },
    {
      "cell_type": "code",
      "metadata": {
        "id": "As8dw_C-EoyS",
        "colab_type": "code",
        "colab": {
          "base_uri": "https://localhost:8080/",
          "height": 193
        },
        "outputId": "84ab5c36-016c-4105-94c4-3ec2c02b4906"
      },
      "source": [
        "for epoch in range(EPOCHS):\n",
        "    for images, labels in train_ds:\n",
        "        train_step(model, images, labels, loss_object, optimizer, train_loss, train_accuracy)\n",
        "\n",
        "    for images, labels in test_ds:\n",
        "        test_step(model, images, labels, loss_object, test_loss, test_accuracy)\n",
        "\n",
        "    template = 'Epoch {}, Loss: {}, Accuracy: {}, Test Loss: {}, Test Accuracy: {}'\n",
        "    print(template.format(\n",
        "          epoch + 1,\n",
        "          train_loss.result(),\n",
        "          train_accuracy.result() * 100,\n",
        "          test_loss.result(),\n",
        "          test_accuracy.result() * 100\n",
        "    ))"
      ],
      "execution_count": 17,
      "outputs": [
        {
          "output_type": "stream",
          "text": [
            "Epoch 1, Loss: 1.3312525749206543, Accuracy: 52.53999710083008, Test Loss: 1.0738935470581055, Test Accuracy: 62.910003662109375\n",
            "Epoch 2, Loss: 1.1014732122421265, Accuracy: 61.01899719238281, Test Loss: 0.9922609925270081, Test Accuracy: 66.04000091552734\n",
            "Epoch 3, Loss: 0.9691203236579895, Accuracy: 65.84400177001953, Test Loss: 0.934353232383728, Test Accuracy: 67.99333190917969\n",
            "Epoch 4, Loss: 0.870938241481781, Accuracy: 69.36000061035156, Test Loss: 0.8978102803230286, Test Accuracy: 69.37750244140625\n",
            "Epoch 5, Loss: 0.7932301759719849, Accuracy: 72.1144027709961, Test Loss: 0.9087613821029663, Test Accuracy: 69.89199829101562\n",
            "Epoch 6, Loss: 0.7263341546058655, Accuracy: 74.49766540527344, Test Loss: 0.8958187103271484, Test Accuracy: 70.7066650390625\n",
            "Epoch 7, Loss: 0.6665540933609009, Accuracy: 76.61885833740234, Test Loss: 0.9098419547080994, Test Accuracy: 71.17428588867188\n",
            "Epoch 8, Loss: 0.6162998676300049, Accuracy: 78.40999603271484, Test Loss: 0.9204843640327454, Test Accuracy: 71.63624572753906\n",
            "Epoch 9, Loss: 0.5725232362747192, Accuracy: 79.96822357177734, Test Loss: 0.9363337159156799, Test Accuracy: 71.92778015136719\n",
            "Epoch 10, Loss: 0.5353579521179199, Accuracy: 81.29679870605469, Test Loss: 0.9692103862762451, Test Accuracy: 72.052001953125\n"
          ],
          "name": "stdout"
        }
      ]
    },
    {
      "cell_type": "code",
      "metadata": {
        "id": "Tmk5mG1aMm-A",
        "colab_type": "code",
        "colab": {
          "base_uri": "https://localhost:8080/",
          "height": 545
        },
        "outputId": "8e5cc9b7-c0e4-4d22-dee7-18e044f06d2d"
      },
      "source": [
        "model.summary()"
      ],
      "execution_count": 18,
      "outputs": [
        {
          "output_type": "stream",
          "text": [
            "Model: \"dense_net\"\n",
            "_________________________________________________________________\n",
            "Layer (type)                 Output Shape              Param #   \n",
            "=================================================================\n",
            "conv2d (Conv2D)              multiple                  224       \n",
            "_________________________________________________________________\n",
            "dense_layer (DenseLayer)     multiple                  1136      \n",
            "_________________________________________________________________\n",
            "transition_layer (Transition multiple                  2320      \n",
            "_________________________________________________________________\n",
            "dense_layer_1 (DenseLayer)   multiple                  4288      \n",
            "_________________________________________________________________\n",
            "transition_layer_1 (Transiti multiple                  9248      \n",
            "_________________________________________________________________\n",
            "dense_layer_2 (DenseLayer)   multiple                  16640     \n",
            "_________________________________________________________________\n",
            "transition_layer_2 (Transiti multiple                  36928     \n",
            "_________________________________________________________________\n",
            "dense_layer_3 (DenseLayer)   multiple                  65536     \n",
            "_________________________________________________________________\n",
            "flatten (Flatten)            multiple                  0         \n",
            "_________________________________________________________________\n",
            "dense (Dense)                multiple                  2098176   \n",
            "_________________________________________________________________\n",
            "dense_1 (Dense)              multiple                  10250     \n",
            "=================================================================\n",
            "Total params: 2,244,746\n",
            "Trainable params: 2,243,906\n",
            "Non-trainable params: 840\n",
            "_________________________________________________________________\n"
          ],
          "name": "stdout"
        }
      ]
    },
    {
      "cell_type": "code",
      "metadata": {
        "id": "iltwgerkOv0Q",
        "colab_type": "code",
        "colab": {
          "base_uri": "https://localhost:8080/",
          "height": 52
        },
        "outputId": "84760bb3-76fb-4880-a250-b82f771b8e76"
      },
      "source": [
        "model.compile(optimizer=optimizer, loss=loss_object, metrics=['accuracy'])\n",
        "model.evaluate(test_ds)"
      ],
      "execution_count": 20,
      "outputs": [
        {
          "output_type": "stream",
          "text": [
            "313/313 [==============================] - 3s 11ms/step - loss: 1.2651 - accuracy: 0.7317\n"
          ],
          "name": "stdout"
        },
        {
          "output_type": "execute_result",
          "data": {
            "text/plain": [
              "[1.2650999904821476, 0.7317]"
            ]
          },
          "metadata": {
            "tags": []
          },
          "execution_count": 20
        }
      ]
    }
  ]
}